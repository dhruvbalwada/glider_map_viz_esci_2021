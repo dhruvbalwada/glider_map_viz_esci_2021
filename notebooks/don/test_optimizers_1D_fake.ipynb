{
 "cells": [
  {
   "cell_type": "markdown",
   "metadata": {},
   "source": [
    "### Test different optimizers in GPytorch on fake data \n",
    "\n",
    "We will try to reconstruct a sine wave with scattered data. The ultimate goal is to see if a quasi-newton optimizer works. "
   ]
  },
  {
   "cell_type": "code",
   "execution_count": 1,
   "metadata": {},
   "outputs": [],
   "source": [
    "import gpytorch\n",
    "import torch\n",
    "import numpy as np\n",
    "import matplotlib.pyplot as plt\n",
    "import xarray as xr"
   ]
  },
  {
   "cell_type": "code",
   "execution_count": 2,
   "metadata": {},
   "outputs": [],
   "source": [
    "np.random.seed(1234);\n",
    "xr.set_options(display_style='html');"
   ]
  },
  {
   "cell_type": "code",
   "execution_count": 3,
   "metadata": {},
   "outputs": [],
   "source": [
    "def fake_1d_data(n_samples, rangex=1, k=2*np.pi, eta=1): \n",
    "    \n",
    "    x = rangex*np.random.rand(n_samples)\n",
    "    \n",
    "    x = xr.DataArray(x, dims=['sample_num'],\n",
    "                    coords=[range(n_samples)])\n",
    "    \n",
    "    yerr = eta* np.random.randn(n_samples)\n",
    "    \n",
    "    y = np.sin(k*x)\n",
    "    \n",
    "    return x, y"
   ]
  },
  {
   "cell_type": "code",
   "execution_count": 4,
   "metadata": {},
   "outputs": [],
   "source": [
    "# Generate a fake data set at some random sample points.\n",
    "eta = 0.1\n",
    "rangex=30 \n",
    "k= 1\n",
    "\n",
    "[x,y] = fake_1d_data(100, rangex, k, eta)"
   ]
  },
  {
   "cell_type": "code",
   "execution_count": 5,
   "metadata": {},
   "outputs": [
    {
     "data": {
      "text/plain": [
       "[<matplotlib.lines.Line2D at 0x7f90e4acfa90>]"
      ]
     },
     "execution_count": 5,
     "metadata": {},
     "output_type": "execute_result"
    },
    {
     "data": {
      "image/png": "[encoded data removed]",
      "text/plain": [
       "<Figure size 432x288 with 1 Axes>"
      ]
     },
     "metadata": {
      "needs_background": "light"
     },
     "output_type": "display_data"
    }
   ],
   "source": [
    "plt.plot(x,y,'.')"
   ]
  },
  {
   "cell_type": "code",
   "execution_count": 6,
   "metadata": {},
   "outputs": [],
   "source": [
    "# convert to torch tensors, since that is what PyTorch and GPyTorch work with.\n",
    "train_x = torch.from_numpy(x.values).float()\n",
    "train_y = torch.from_numpy(y.values).float()"
   ]
  },
  {
   "cell_type": "code",
   "execution_count": null,
   "metadata": {},
   "outputs": [],
   "source": []
  }
 ],
 "metadata": {
  "kernelspec": {
   "display_name": "Python [conda env:glider-env]",
   "language": "python",
   "name": "conda-env-glider-env-py"
  },
  "language_info": {
   "codemirror_mode": {
    "name": "ipython",
    "version": 3
   },
   "file_extension": ".py",
   "mimetype": "text/x-python",
   "name": "python",
   "nbconvert_exporter": "python",
   "pygments_lexer": "ipython3",
   "version": "3.7.9"
  }
 },
 "nbformat": 4,
 "nbformat_minor": 4
}
