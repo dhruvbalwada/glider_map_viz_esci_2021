{
 "cells": [
  {
   "cell_type": "markdown",
   "metadata": {},
   "source": [
    "### Test different optimizers in GPytorch on fake data \n",
    "\n",
    "We will try to reconstruct a sine wave with scattered data.\n",
    "Something similar to : https://docs.gpytorch.ai/en/stable/examples/01_Exact_GPs/Simple_GP_Regression.html\n",
    "The ultimate goal is to see if a quasi-newton optimizer works. "
   ]
  },
  {
   "cell_type": "code",
   "execution_count": 1,
   "metadata": {},
   "outputs": [],
   "source": [
    "import gpytorch\n",
    "import torch\n",
    "import numpy as np\n",
    "import matplotlib.pyplot as plt\n",
    "import xarray as xr"
   ]
  },
  {
   "cell_type": "code",
   "execution_count": 2,
   "metadata": {},
   "outputs": [],
   "source": [
    "import sys\n",
    "sys.path.append('../../../python_packages/PyTorch-LBFGS/functions/')\n",
    "from LBFGS import FullBatchLBFGS"
   ]
  },
  {
   "cell_type": "code",
   "execution_count": 4,
   "metadata": {},
   "outputs": [],
   "source": [
    "np.random.seed(1234);\n",
    "xr.set_options(display_style='html');"
   ]
  },
  {
   "cell_type": "code",
   "execution_count": 5,
   "metadata": {},
   "outputs": [],
   "source": [
    "def fake_1d_data(n_samples, rangex=1, k=2*np.pi, eta=1): \n",
    "    \n",
    "    x = rangex*np.random.rand(n_samples)\n",
    "    \n",
    "    x = xr.DataArray(x, dims=['sample_num'],\n",
    "                    coords=[range(n_samples)])\n",
    "    \n",
    "    yerr = eta* np.random.randn(n_samples)\n",
    "    \n",
    "    y = np.sin(k*x) + yerr\n",
    "    \n",
    "    return x, y"
   ]
  },
  {
   "cell_type": "code",
   "execution_count": 6,
   "metadata": {},
   "outputs": [],
   "source": [
    "# Generate a fake data set at some random sample points.\n",
    "eta = 0.2\n",
    "rangex=30 \n",
    "k= 1\n",
    "\n",
    "[x,y] = fake_1d_data(100, rangex, k, eta)"
   ]
  },
  {
   "cell_type": "code",
   "execution_count": 7,
   "metadata": {},
   "outputs": [
    {
     "data": {
      "text/plain": [
       "Text(0, 0.5, 'y')"
      ]
     },
     "execution_count": 7,
     "metadata": {},
     "output_type": "execute_result"
    },
    {
     "data": {
      "image/png": "[encoded data removed]",
      "text/plain": [
       "<Figure size 432x288 with 1 Axes>"
      ]
     },
     "metadata": {
      "needs_background": "light"
     },
     "output_type": "display_data"
    }
   ],
   "source": [
    "plt.plot(x,y,'.')\n",
    "plt.xlabel('x')\n",
    "plt.ylabel('y')"
   ]
  },
  {
   "cell_type": "code",
   "execution_count": 8,
   "metadata": {},
   "outputs": [],
   "source": [
    "# convert to torch tensors, since that is what PyTorch and GPyTorch work with.\n",
    "train_x = torch.from_numpy(x.values).float()\n",
    "train_y = torch.from_numpy(y.values).float()"
   ]
  },
  {
   "cell_type": "code",
   "execution_count": 9,
   "metadata": {},
   "outputs": [],
   "source": [
    "# We will use the simplest form of GP model, exact inference\n",
    "class ExactGPModel(gpytorch.models.ExactGP): # setup the class which inherits the ExactGP model\n",
    "    # initialize the class with X_input, Y_input and a likelihood\n",
    "    def __init__(self, train_x, train_y, likelihood):\n",
    "        \n",
    "        super(ExactGPModel, self).__init__(train_x, train_y, likelihood)\n",
    "        # This calls the __init__ of the inherited class (gpytorch.models.ExactGP),\n",
    "        # and passes the training data and a likelihood to it.\n",
    "        # Also ExactGPModel objects have access to 'ExactGP' functions, since it has inherited it.\n",
    "        \n",
    "        # Chose a constant mean.\n",
    "        self.mean_module = gpytorch.means.ConstantMean()\n",
    "        # ScaleKernel gives the covariance function a scaling factor (K_scale = theta*K_orig)\n",
    "        self.covar_module = gpytorch.kernels.ScaleKernel(\n",
    "                            gpytorch.kernels.RBFKernel(ard_num_dims=1, \n",
    "                                                       has_lengthscale=True))#train_x.shape[1])) \n",
    "                                        #,lengthscale_prior=[0.5, 0.5, 0.5]))\n",
    "\n",
    "        # forward takes some x input of size nXd (n-num samples, d-input dim),\n",
    "        # and returns the multivariate gaussian with mu(x) and cov(x)\n",
    "    def forward(self, x):\n",
    "        mean_x = self.mean_module(x)\n",
    "        covar_x = self.covar_module(x)\n",
    "        return gpytorch.distributions.MultivariateNormal(mean_x, covar_x)"
   ]
  },
  {
   "cell_type": "code",
   "execution_count": 10,
   "metadata": {},
   "outputs": [],
   "source": [
    "# initialize likelihood and model\n",
    "likelihood = gpytorch.likelihoods.GaussianLikelihood()\n",
    "\n",
    "model = ExactGPModel(train_x, train_y, likelihood)"
   ]
  },
  {
   "cell_type": "code",
   "execution_count": 11,
   "metadata": {},
   "outputs": [],
   "source": [
    "# Find optimal model hyperparameters\n",
    "model.train() \n",
    "likelihood.train();\n",
    "# these calls set the model and likelihood into training modes \n",
    "# (they don't actually train anything)\n",
    "# Use the adam optimizer\n",
    "\n",
    "optimizer = torch.optim.Adam([\n",
    "                {'params': model.parameters()},  # Includes GaussianLikelihood parameters\n",
    "                              ], lr=0.1) # set learning rate of 0.1"
   ]
  },
  {
   "cell_type": "code",
   "execution_count": 12,
   "metadata": {},
   "outputs": [],
   "source": [
    "# \"Loss\" for GPs - the marginal log likelihood log(p(y(x)))\n",
    "mll = gpytorch.mlls.ExactMarginalLogLikelihood(likelihood, model)"
   ]
  },
  {
   "cell_type": "code",
   "execution_count": 13,
   "metadata": {},
   "outputs": [
    {
     "name": "stdout",
     "output_type": "stream",
     "text": [
      "Iter 1/300 - Loss: 1.019   lengthscale1: 0.693 noise: 0.693\n",
      "Iter 11/300 - Loss: 0.672   lengthscale1: 1.280 noise: 0.312\n",
      "Iter 21/300 - Loss: 0.361   lengthscale1: 1.481 noise: 0.125\n",
      "Iter 31/300 - Loss: 0.148   lengthscale1: 1.587 noise: 0.050\n",
      "Iter 41/300 - Loss: 0.125   lengthscale1: 1.818 noise: 0.027\n",
      "Iter 51/300 - Loss: 0.125   lengthscale1: 1.789 noise: 0.027\n",
      "Iter 61/300 - Loss: 0.115   lengthscale1: 1.891 noise: 0.034\n",
      "Iter 71/300 - Loss: 0.117   lengthscale1: 1.856 noise: 0.036\n",
      "Iter 81/300 - Loss: 0.115   lengthscale1: 1.883 noise: 0.034\n",
      "Iter 91/300 - Loss: 0.115   lengthscale1: 1.869 noise: 0.032\n",
      "Iter 101/300 - Loss: 0.115   lengthscale1: 1.872 noise: 0.033\n",
      "Iter 111/300 - Loss: 0.115   lengthscale1: 1.871 noise: 0.034\n",
      "Iter 121/300 - Loss: 0.115   lengthscale1: 1.868 noise: 0.033\n",
      "Iter 131/300 - Loss: 0.115   lengthscale1: 1.869 noise: 0.033\n",
      "Iter 141/300 - Loss: 0.115   lengthscale1: 1.869 noise: 0.033\n",
      "Iter 151/300 - Loss: 0.115   lengthscale1: 1.869 noise: 0.033\n",
      "Iter 161/300 - Loss: 0.115   lengthscale1: 1.869 noise: 0.033\n",
      "Iter 171/300 - Loss: 0.115   lengthscale1: 1.869 noise: 0.033\n",
      "Iter 181/300 - Loss: 0.115   lengthscale1: 1.869 noise: 0.033\n",
      "Iter 191/300 - Loss: 0.115   lengthscale1: 1.869 noise: 0.033\n",
      "Iter 201/300 - Loss: 0.115   lengthscale1: 1.869 noise: 0.033\n",
      "Iter 211/300 - Loss: 0.115   lengthscale1: 1.869 noise: 0.033\n",
      "Iter 221/300 - Loss: 0.115   lengthscale1: 1.869 noise: 0.033\n",
      "Iter 231/300 - Loss: 0.115   lengthscale1: 1.869 noise: 0.033\n",
      "Iter 241/300 - Loss: 0.115   lengthscale1: 1.869 noise: 0.033\n",
      "Iter 251/300 - Loss: 0.115   lengthscale1: 1.869 noise: 0.033\n",
      "Iter 261/300 - Loss: 0.115   lengthscale1: 1.869 noise: 0.033\n",
      "Iter 271/300 - Loss: 0.115   lengthscale1: 1.869 noise: 0.033\n",
      "Iter 281/300 - Loss: 0.115   lengthscale1: 1.869 noise: 0.033\n",
      "Iter 291/300 - Loss: 0.115   lengthscale1: 1.869 noise: 0.033\n"
     ]
    }
   ],
   "source": [
    "training_iter=300\n",
    "loss_vals = np.zeros(training_iter)\n",
    "for i in range(training_iter):\n",
    "    \n",
    "        # Zero gradients from previous iteration\n",
    "    optimizer.zero_grad()\n",
    "\n",
    "    # Output from model\n",
    "    output = model(train_x)\n",
    "\n",
    "    # Calc loss and backprop gradients\n",
    "    # loss is defined is -log(p(Y(x)))\n",
    "\n",
    "    # the way the PyTorch optimizer works is that it looks for a variable called loss,\n",
    "    # which also has a gradient (calc by calling backward), and tries to reduce it.\n",
    "    loss = -mll(output, train_y)\n",
    "\n",
    "    loss.backward()\n",
    "    \n",
    "    if np.mod(i,10)==0:\n",
    "        print('Iter %d/%d - Loss: %.3f   lengthscale1: %.3f noise: %.3f' % (\n",
    "            i + 1, training_iter, loss.item(),\n",
    "            model.covar_module.base_kernel.lengthscale[0][0].item(),\n",
    "            model.likelihood.noise.item()\n",
    "              ))\n",
    "    loss_vals[i] = loss.item()\n",
    "        \n",
    "    optimizer.step()"
   ]
  },
  {
   "cell_type": "code",
   "execution_count": 14,
   "metadata": {},
   "outputs": [
    {
     "data": {
      "text/plain": [
       "[<matplotlib.lines.Line2D at 0x7fd56eefe810>]"
      ]
     },
     "execution_count": 14,
     "metadata": {},
     "output_type": "execute_result"
    },
    {
     "data": {
      "image/png": "[encoded data removed]",
      "text/plain": [
       "<Figure size 432x288 with 1 Axes>"
      ]
     },
     "metadata": {
      "needs_background": "light"
     },
     "output_type": "display_data"
    }
   ],
   "source": [
    "plt.plot(loss_vals, marker='.')"
   ]
  },
  {
   "cell_type": "code",
   "execution_count": 85,
   "metadata": {},
   "outputs": [
    {
     "name": "stdout",
     "output_type": "stream",
     "text": [
      "Noise std:  0.19072457980090782\n",
      "Scale kernel:  1.0248819589614868\n",
      "Length/time scales:  tensor([[1.6662]], grad_fn=<SoftplusBackward>)\n"
     ]
    }
   ],
   "source": [
    "print('Noise std: ', model.likelihood.noise_covar.noise.item()**0.5)\n",
    "print('Scale kernel: ',model.covar_module.outputscale.item())\n",
    "print('Length/time scales: ',model.covar_module.base_kernel.lengthscale)"
   ]
  },
  {
   "cell_type": "code",
   "execution_count": 95,
   "metadata": {},
   "outputs": [],
   "source": [
    "test_pts = torch.from_numpy(\n",
    "            np.array(np.linspace(-10,rangex+10,500))).float()"
   ]
  },
  {
   "cell_type": "code",
   "execution_count": 96,
   "metadata": {},
   "outputs": [],
   "source": [
    "test_pts_xr = xr.DataArray(test_pts.numpy(),  dims=[\"test_pt_num\"], \n",
    "                        coords=[range(test_pts.shape[0])] ) "
   ]
  },
  {
   "cell_type": "code",
   "execution_count": 97,
   "metadata": {},
   "outputs": [],
   "source": [
    "# Get into evaluation (predictive posterior) mode\n",
    "# this is the specific way that PyTorch works, basically sort\n",
    "# of like freezing parameters, stop tracking gradients.\n",
    "model.eval()\n",
    "likelihood.eval();"
   ]
  },
  {
   "cell_type": "code",
   "execution_count": 98,
   "metadata": {},
   "outputs": [],
   "source": [
    "# Test points are regularly spaced along [0,1]\n",
    "# Make predictions by feeding model through likelihood\n",
    "with torch.no_grad(), gpytorch.settings.fast_pred_var():\n",
    "    #test_x = torch.linspace(0, 1, 51)\n",
    "    observed_pred = likelihood(model(test_pts))"
   ]
  },
  {
   "cell_type": "code",
   "execution_count": 99,
   "metadata": {},
   "outputs": [],
   "source": [
    "mean_obs = observed_pred.mean\n",
    "var_obs  = observed_pred.variance\n",
    "samp1    = observed_pred.sample()\n",
    "# still takes time. but still much faster. :) "
   ]
  },
  {
   "cell_type": "code",
   "execution_count": 100,
   "metadata": {},
   "outputs": [],
   "source": [
    "lower, upper = observed_pred.confidence_region()"
   ]
  },
  {
   "cell_type": "code",
   "execution_count": 101,
   "metadata": {},
   "outputs": [],
   "source": [
    "pred_mean = xr.DataArray(mean_obs.numpy(),  dims={\"test_pt_num\"})\n",
    "pred_var = xr.DataArray(var_obs.detach().numpy(),  dims={\"test_pt_num\"})\n",
    "pred_samp = xr.DataArray(samp1.numpy(),  dims={\"test_pt_num\"})"
   ]
  },
  {
   "cell_type": "code",
   "execution_count": 102,
   "metadata": {},
   "outputs": [
    {
     "data": {
      "text/plain": [
       "[<matplotlib.lines.Line2D at 0x7fdb408d3650>]"
      ]
     },
     "execution_count": 102,
     "metadata": {},
     "output_type": "execute_result"
    },
    {
     "data": {
      "image/png": "[encoded data removed]",
      "text/plain": [
       "<Figure size 432x288 with 1 Axes>"
      ]
     },
     "metadata": {
      "needs_background": "light"
     },
     "output_type": "display_data"
    }
   ],
   "source": [
    "plt.plot(test_pts_xr, pred_mean)\n",
    "plt.plot(x,y,'o')\n"
   ]
  },
  {
   "cell_type": "code",
   "execution_count": 103,
   "metadata": {},
   "outputs": [
    {
     "data": {
      "image/png": "[encoded data removed]",
      "text/plain": [
       "<Figure size 288x216 with 1 Axes>"
      ]
     },
     "metadata": {
      "needs_background": "light"
     },
     "output_type": "display_data"
    }
   ],
   "source": [
    "with torch.no_grad():\n",
    "    # Initialize plot\n",
    "    f, ax = plt.subplots(1, 1, figsize=(4, 3))\n",
    "\n",
    "    # Get upper and lower confidence bounds\n",
    "    lower, upper = observed_pred.confidence_region()\n",
    "    # Plot training data as black stars\n",
    "    ax.plot(train_x.numpy(), train_y.numpy(), 'k*')\n",
    "    # Plot predictive means as blue line\n",
    "    ax.plot(test_pts.numpy(), observed_pred.mean.numpy(), 'b')\n",
    "    # Shade between the lower and upper confidence bounds\n",
    "    ax.fill_between(test_pts.numpy(), lower.numpy(), upper.numpy(), alpha=0.5)\n",
    "    ax.set_ylim([-1.5, 1.5])\n",
    "    ax.legend(['Observed Data', 'Mean', 'Confidence'])"
   ]
  },
  {
   "cell_type": "code",
   "execution_count": null,
   "metadata": {},
   "outputs": [],
   "source": []
  }
 ],
 "metadata": {
  "kernelspec": {
   "display_name": "Python [conda env:sogos]",
   "language": "python",
   "name": "conda-env-sogos-py"
  },
  "language_info": {
   "codemirror_mode": {
    "name": "ipython",
    "version": 3
   },
   "file_extension": ".py",
   "mimetype": "text/x-python",
   "name": "python",
   "nbconvert_exporter": "python",
   "pygments_lexer": "ipython3",
   "version": "3.7.9"
  }
 },
 "nbformat": 4,
 "nbformat_minor": 4
}
