{
 "cells": [
  {
   "cell_type": "markdown",
   "metadata": {},
   "source": [
    "### Test different optimizers in GPytorch on fake data \n",
    "\n",
    "We will try to reconstruct a sine wave with scattered data.\n",
    "Something similar to : https://docs.gpytorch.ai/en/stable/examples/01_Exact_GPs/Simple_GP_Regression.html\n",
    "The ultimate goal is to see if a quasi-newton optimizer works. "
   ]
  },
  {
   "cell_type": "code",
   "execution_count": 1,
   "metadata": {},
   "outputs": [],
   "source": [
    "import gpytorch\n",
    "import torch\n",
    "import numpy as np\n",
    "import matplotlib.pyplot as plt\n",
    "import xarray as xr"
   ]
  },
  {
   "cell_type": "code",
   "execution_count": 2,
   "metadata": {},
   "outputs": [],
   "source": [
    "import sys\n",
    "sys.path.append('../../../python_packages/PyTorch-LBFGS/functions/')\n",
    "from LBFGS import FullBatchLBFGS"
   ]
  },
  {
   "cell_type": "code",
   "execution_count": 3,
   "metadata": {},
   "outputs": [],
   "source": [
    "np.random.seed(1234);\n",
    "xr.set_options(display_style='html');"
   ]
  },
  {
   "cell_type": "code",
   "execution_count": 4,
   "metadata": {},
   "outputs": [],
   "source": [
    "def fake_1d_data(n_samples, rangex=1, k=2*np.pi, eta=1): \n",
    "    \n",
    "    x = rangex*np.random.rand(n_samples)\n",
    "    \n",
    "    x = xr.DataArray(x, dims=['sample_num'],\n",
    "                    coords=[range(n_samples)])\n",
    "    \n",
    "    yerr = eta* np.random.randn(n_samples)\n",
    "    \n",
    "    y = np.sin(k*x) + yerr\n",
    "    \n",
    "    return x, y"
   ]
  },
  {
   "cell_type": "code",
   "execution_count": 25,
   "metadata": {},
   "outputs": [],
   "source": [
    "# Generate a fake data set at some random sample points.\n",
    "eta = 0.2\n",
    "rangex=30 \n",
    "k= 1\n",
    "\n",
    "[x,y] = fake_1d_data(50, rangex, k, eta)"
   ]
  },
  {
   "cell_type": "code",
   "execution_count": 26,
   "metadata": {},
   "outputs": [
    {
     "data": {
      "text/plain": [
       "Text(0, 0.5, 'y')"
      ]
     },
     "execution_count": 26,
     "metadata": {},
     "output_type": "execute_result"
    },
    {
     "data": {
      "image/png": "[encoded data removed]",
      "text/plain": [
       "<Figure size 432x288 with 1 Axes>"
      ]
     },
     "metadata": {
      "needs_background": "light"
     },
     "output_type": "display_data"
    }
   ],
   "source": [
    "plt.plot(x,y,'.')\n",
    "plt.xlabel('x')\n",
    "plt.ylabel('y')"
   ]
  },
  {
   "cell_type": "code",
   "execution_count": 27,
   "metadata": {},
   "outputs": [],
   "source": [
    "# convert to torch tensors, since that is what PyTorch and GPyTorch work with.\n",
    "train_x = torch.from_numpy(x.values).float()\n",
    "train_y = torch.from_numpy(y.values).float()"
   ]
  },
  {
   "cell_type": "code",
   "execution_count": 28,
   "metadata": {},
   "outputs": [],
   "source": [
    "# We will use the simplest form of GP model, exact inference\n",
    "class ExactGPModel(gpytorch.models.ExactGP): # setup the class which inherits the ExactGP model\n",
    "    # initialize the class with X_input, Y_input and a likelihood\n",
    "    def __init__(self, train_x, train_y, likelihood):\n",
    "        \n",
    "        super(ExactGPModel, self).__init__(train_x, train_y, likelihood)\n",
    "        # This calls the __init__ of the inherited class (gpytorch.models.ExactGP),\n",
    "        # and passes the training data and a likelihood to it.\n",
    "        # Also ExactGPModel objects have access to 'ExactGP' functions, since it has inherited it.\n",
    "        \n",
    "        # Chose a constant mean.\n",
    "        self.mean_module = gpytorch.means.ConstantMean()\n",
    "        # ScaleKernel gives the covariance function a scaling factor (K_scale = theta*K_orig)\n",
    "        self.covar_module = gpytorch.kernels.ScaleKernel(\n",
    "                            gpytorch.kernels.RBFKernel(ard_num_dims=1, \n",
    "                                                       has_lengthscale=True))#train_x.shape[1])) \n",
    "                                        #,lengthscale_prior=[0.5, 0.5, 0.5]))\n",
    "\n",
    "        # forward takes some x input of size nXd (n-num samples, d-input dim),\n",
    "        # and returns the multivariate gaussian with mu(x) and cov(x)\n",
    "    def forward(self, x):\n",
    "        mean_x = self.mean_module(x)\n",
    "        covar_x = self.covar_module(x)\n",
    "        return gpytorch.distributions.MultivariateNormal(mean_x, covar_x)"
   ]
  },
  {
   "cell_type": "code",
   "execution_count": 29,
   "metadata": {},
   "outputs": [],
   "source": [
    "# initialize likelihood and model\n",
    "likelihood = gpytorch.likelihoods.GaussianLikelihood()\n",
    "\n",
    "model = ExactGPModel(train_x, train_y, likelihood)"
   ]
  },
  {
   "cell_type": "code",
   "execution_count": 30,
   "metadata": {},
   "outputs": [],
   "source": [
    "# Find optimal model hyperparameters\n",
    "model.train() \n",
    "likelihood.train();\n",
    "# these calls set the model and likelihood into training modes \n",
    "# (they don't actually train anything)\n",
    "# Use the adam optimizer\n",
    "\n",
    "#optimizer = torch.optim.Adam([\n",
    "#                {'params': model.parameters()},  # Includes GaussianLikelihood parameters\n",
    "#                              ], lr=0.1) # set learning rate of 0.1\n",
    "optimizer = FullBatchLBFGS(model.parameters())"
   ]
  },
  {
   "cell_type": "code",
   "execution_count": 31,
   "metadata": {},
   "outputs": [],
   "source": [
    "# \"Loss\" for GPs - the marginal log likelihood log(p(y(x)))\n",
    "mll = gpytorch.mlls.ExactMarginalLogLikelihood(likelihood, model)"
   ]
  },
  {
   "cell_type": "code",
   "execution_count": 32,
   "metadata": {},
   "outputs": [],
   "source": [
    "# define closure\n",
    "def closure():\n",
    "    optimizer.zero_grad()\n",
    "    output = model(train_x)\n",
    "    loss = -mll(output, train_y)\n",
    "    return loss"
   ]
  },
  {
   "cell_type": "code",
   "execution_count": 33,
   "metadata": {},
   "outputs": [],
   "source": [
    "loss = closure()\n",
    "loss.backward()"
   ]
  },
  {
   "cell_type": "code",
   "execution_count": 34,
   "metadata": {},
   "outputs": [
    {
     "name": "stdout",
     "output_type": "stream",
     "text": [
      "Iter 1/10 - Loss: 0.647 - LR: 8.000 - Func Evals: 4 - Grad Evals: 4 - Log-Lengthscale: 0.891 - Log_Noise: 0.152\n",
      "Iter 2/10 - Loss: 0.493 - LR: 0.097 - Func Evals: 3 - Grad Evals: 1 - Log-Lengthscale: 1.053 - Log_Noise: 0.057\n",
      "Iter 3/10 - Loss: 0.475 - LR: 1.000 - Func Evals: 1 - Grad Evals: 1 - Log-Lengthscale: 1.266 - Log_Noise: 0.039\n",
      "Iter 4/10 - Loss: 0.465 - LR: 1.000 - Func Evals: 1 - Grad Evals: 1 - Log-Lengthscale: 1.224 - Log_Noise: 0.051\n",
      "Iter 5/10 - Loss: 0.462 - LR: 1.000 - Func Evals: 1 - Grad Evals: 1 - Log-Lengthscale: 1.267 - Log_Noise: 0.049\n",
      "Iter 6/10 - Loss: 0.460 - LR: 1.000 - Func Evals: 1 - Grad Evals: 1 - Log-Lengthscale: 1.343 - Log_Noise: 0.048\n",
      "Iter 7/10 - Loss: 0.459 - LR: 1.000 - Func Evals: 1 - Grad Evals: 1 - Log-Lengthscale: 1.398 - Log_Noise: 0.047\n",
      "Iter 8/10 - Loss: 0.459 - LR: 0.360 - Func Evals: 2 - Grad Evals: 1 - Log-Lengthscale: 1.424 - Log_Noise: 0.048\n",
      "Iter 9/10 - Loss: 0.459 - LR: 1.000 - Func Evals: 1 - Grad Evals: 1 - Log-Lengthscale: 1.429 - Log_Noise: 0.048\n",
      "Iter 10/10 - Loss: 0.459 - LR: 1.000 - Func Evals: 1 - Grad Evals: 1 - Log-Lengthscale: 1.431 - Log_Noise: 0.048\n"
     ]
    }
   ],
   "source": [
    "training_iter = 10\n",
    "for i in range(training_iter):\n",
    "\n",
    "    # perform step and update curvature\n",
    "    options = {'closure': closure, 'current_loss': loss, 'max_ls': 10}\n",
    "    loss, _, lr, _, F_eval, G_eval, _, _ = optimizer.step(options)\n",
    "\n",
    "#    print('Iter %d/%d - Loss: %.3f   lengthscale1: %.3f noise: %.3f' % (\n",
    "#            i + 1, training_iter, loss.item(),\n",
    "#            model.covar_module.base_kernel.lengthscale[0][0].item(),\n",
    "#            model.likelihood.noise.item()\n",
    "#              ))\n",
    "    \n",
    "    print('Iter %d/%d - Loss: %.3f - LR: %.3f - Func Evals: %0.0f - Grad Evals: %0.0f - Log-Lengthscale: %.3f - Log_Noise: %.3f' % (\n",
    "        i + 1, training_iter, loss.item(), lr, F_eval, G_eval,\n",
    "        model.covar_module.base_kernel.lengthscale[0][0].item(),\n",
    "        model.likelihood.noise.item()\n",
    "        ))"
   ]
  },
  {
   "cell_type": "code",
   "execution_count": 35,
   "metadata": {},
   "outputs": [
    {
     "name": "stdout",
     "output_type": "stream",
     "text": [
      "Noise std:  0.21944966989461095\n",
      "Scale kernel:  0.6628506779670715\n",
      "Length/time scales:  tensor([[1.4306]], grad_fn=<SoftplusBackward>)\n"
     ]
    }
   ],
   "source": [
    "print('Noise std: ', model.likelihood.noise_covar.noise.item()**0.5)\n",
    "print('Scale kernel: ',model.covar_module.outputscale.item())\n",
    "print('Length/time scales: ',model.covar_module.base_kernel.lengthscale)"
   ]
  },
  {
   "cell_type": "code",
   "execution_count": 36,
   "metadata": {},
   "outputs": [],
   "source": [
    "test_pts = torch.from_numpy(\n",
    "            np.array(np.linspace(-10,rangex+10,500))).float()"
   ]
  },
  {
   "cell_type": "code",
   "execution_count": 37,
   "metadata": {},
   "outputs": [],
   "source": [
    "test_pts_xr = xr.DataArray(test_pts.numpy(),  dims=[\"test_pt_num\"], \n",
    "                        coords=[range(test_pts.shape[0])] ) "
   ]
  },
  {
   "cell_type": "code",
   "execution_count": 38,
   "metadata": {},
   "outputs": [],
   "source": [
    "# Get into evaluation (predictive posterior) mode\n",
    "# this is the specific way that PyTorch works, basically sort\n",
    "# of like freezing parameters, stop tracking gradients.\n",
    "model.eval()\n",
    "likelihood.eval();"
   ]
  },
  {
   "cell_type": "code",
   "execution_count": 39,
   "metadata": {},
   "outputs": [],
   "source": [
    "# Test points are regularly spaced along [0,1]\n",
    "# Make predictions by feeding model through likelihood\n",
    "with torch.no_grad(), gpytorch.settings.fast_pred_var():\n",
    "    #test_x = torch.linspace(0, 1, 51)\n",
    "    observed_pred = likelihood(model(test_pts))"
   ]
  },
  {
   "cell_type": "code",
   "execution_count": 40,
   "metadata": {},
   "outputs": [],
   "source": [
    "mean_obs = observed_pred.mean\n",
    "var_obs  = observed_pred.variance\n",
    "samp1    = observed_pred.sample()\n",
    "# still takes time. but still much faster. :) "
   ]
  },
  {
   "cell_type": "code",
   "execution_count": 41,
   "metadata": {},
   "outputs": [],
   "source": [
    "lower, upper = observed_pred.confidence_region()"
   ]
  },
  {
   "cell_type": "code",
   "execution_count": 42,
   "metadata": {},
   "outputs": [],
   "source": [
    "pred_mean = xr.DataArray(mean_obs.numpy(),  dims={\"test_pt_num\"})\n",
    "pred_var = xr.DataArray(var_obs.detach().numpy(),  dims={\"test_pt_num\"})\n",
    "pred_samp = xr.DataArray(samp1.numpy(),  dims={\"test_pt_num\"})"
   ]
  },
  {
   "cell_type": "code",
   "execution_count": 43,
   "metadata": {},
   "outputs": [
    {
     "data": {
      "text/plain": [
       "[<matplotlib.lines.Line2D at 0x7fb3f423ef50>]"
      ]
     },
     "execution_count": 43,
     "metadata": {},
     "output_type": "execute_result"
    },
    {
     "data": {
      "image/png": "[encoded data removed]",
      "text/plain": [
       "<Figure size 432x288 with 1 Axes>"
      ]
     },
     "metadata": {
      "needs_background": "light"
     },
     "output_type": "display_data"
    }
   ],
   "source": [
    "plt.plot(test_pts_xr, pred_mean)\n",
    "plt.plot(x,y,'o')\n"
   ]
  },
  {
   "cell_type": "code",
   "execution_count": 44,
   "metadata": {},
   "outputs": [
    {
     "data": {
      "image/png": "[encoded data removed]",
      "text/plain": [
       "<Figure size 288x216 with 1 Axes>"
      ]
     },
     "metadata": {
      "needs_background": "light"
     },
     "output_type": "display_data"
    }
   ],
   "source": [
    "with torch.no_grad():\n",
    "    # Initialize plot\n",
    "    f, ax = plt.subplots(1, 1, figsize=(4, 3))\n",
    "\n",
    "    # Get upper and lower confidence bounds\n",
    "    lower, upper = observed_pred.confidence_region()\n",
    "    # Plot training data as black stars\n",
    "    ax.plot(train_x.numpy(), train_y.numpy(), 'k*')\n",
    "    # Plot predictive means as blue line\n",
    "    ax.plot(test_pts.numpy(), observed_pred.mean.numpy(), 'b')\n",
    "    # Shade between the lower and upper confidence bounds\n",
    "    ax.fill_between(test_pts.numpy(), lower.numpy(), upper.numpy(), alpha=0.5)\n",
    "    ax.set_ylim([-1.5, 1.5])\n",
    "    ax.legend(['Observed Data', 'Mean', 'Confidence'])"
   ]
  },
  {
   "cell_type": "code",
   "execution_count": null,
   "metadata": {},
   "outputs": [],
   "source": []
  }
 ],
 "metadata": {
  "kernelspec": {
   "display_name": "Python [conda env:sogos]",
   "language": "python",
   "name": "conda-env-sogos-py"
  },
  "language_info": {
   "codemirror_mode": {
    "name": "ipython",
    "version": 3
   },
   "file_extension": ".py",
   "mimetype": "text/x-python",
   "name": "python",
   "nbconvert_exporter": "python",
   "pygments_lexer": "ipython3",
   "version": "3.7.9"
  }
 },
 "nbformat": 4,
 "nbformat_minor": 4
}
